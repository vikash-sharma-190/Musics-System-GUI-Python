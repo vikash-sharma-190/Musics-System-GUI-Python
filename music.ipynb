{
 "cells": [
  {
   "cell_type": "code",
   "execution_count": 4,
   "metadata": {},
   "outputs": [
    {
     "name": "stderr",
     "output_type": "stream",
     "text": [
      "Exception in Tkinter callback\n",
      "Traceback (most recent call last):\n",
      "  File \"/usr/lib/python2.7/lib-tk/Tkinter.py\", line 1550, in __call__\n",
      "    return self.func(*args)\n",
      "  File \"<ipython-input-4-9e86239dedff>\", line 15, in start_stop\n",
      "    pygame.mixer.music.load(song_name)\n",
      "error: Couldn't open 'Maine Poocha Chand Se (Instrumental Song)-(NewMp3Maza.com).mp3'\n"
     ]
    },
    {
     "name": "stdout",
     "output_type": "stream",
     "text": [
      "pause\n"
     ]
    }
   ],
   "source": [
    "from tkinter import *\n",
    "import pygame\n",
    "import os\n",
    "\n",
    "window =Tk()\n",
    "window.geometry(\"400x150\")\n",
    "pygame.mixer.init()\n",
    "n=0\n",
    "\n",
    "def start_stop():\n",
    "    global n\n",
    "    n=n+1\n",
    "    if n==1:\n",
    "        song_name=song_listbox.get()\n",
    "        pygame.mixer.music.load(song_name)\n",
    "        pygame.mixer.music.play(0)\n",
    "        print(\"started\")\n",
    "        effect = pygame.mixer.Sound()\n",
    "        effect.play()\n",
    "    elif (n%2)==0:\n",
    "        pygame.mixer.music.pause()\n",
    "        print(\"pause\")\n",
    "\n",
    "    elif (n%2)!=0:\n",
    "        pygame.mixer.music.unpause()\n",
    "        print(\"unpause\")\n",
    "        \n",
    "\n",
    "l1=Label(window,text=\"Music\",font=\"times 20\")\n",
    "l1.grid(row=1,column=1)\n",
    "b2=Button(window,text='o',width=20,command=start_stop)\n",
    "b2.grid(row=4,column=1)\n",
    "path = \"/home/vikash/vikash/Music/song\"\n",
    "song_list=os.listdir(path) \n",
    "song_listbox=StringVar(window)\n",
    "song_listbox.set(\"select song\")\n",
    "menu=OptionMenu(window,song_listbox,*song_list)\n",
    "menu.grid(row=4,column=4)\n",
    "\n",
    "window.mainloop(0)"
   ]
  },
  {
   "cell_type": "code",
   "execution_count": null,
   "metadata": {},
   "outputs": [],
   "source": []
  }
 ],
 "metadata": {
  "kernelspec": {
   "display_name": "Python 2",
   "language": "python",
   "name": "python2"
  },
  "language_info": {
   "codemirror_mode": {
    "name": "ipython",
    "version": 2
   },
   "file_extension": ".py",
   "mimetype": "text/x-python",
   "name": "python",
   "nbconvert_exporter": "python",
   "pygments_lexer": "ipython2",
   "version": "2.7.17"
  }
 },
 "nbformat": 4,
 "nbformat_minor": 2
}
